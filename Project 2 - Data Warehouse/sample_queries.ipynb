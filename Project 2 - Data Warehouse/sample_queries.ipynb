{
 "cells": [
  {
   "cell_type": "markdown",
   "metadata": {
    "editable": true
   },
   "source": [
    "## Sample Queries from the Sparkify Data Warehouse\n",
    "\n",
    "Much has been talked about how the Data Warehouse would help our analytics team on getting insights more quicly and precisely. So what about showing some examples on how this technology is going to support our company growth? Let's do this by answering some business questions!"
   ]
  },
  {
   "cell_type": "code",
   "execution_count": 19,
   "metadata": {
    "editable": true
   },
   "outputs": [],
   "source": [
    "import configparser\n",
    "import psycopg2\n",
    "import pandas.io.sql as sqlio\n",
    "import matplotlib.pyplot as plt\n",
    "\n",
    "config = configparser.ConfigParser()\n",
    "config.read('dwh.cfg')\n",
    "\n",
    "connection = psycopg2.connect(\"host={} dbname={} user={} password={} port={}\".format(*config['CLUSTER'].values()))"
   ]
  },
  {
   "cell_type": "markdown",
   "metadata": {
    "editable": true
   },
   "source": [
    "#### Question 1: What were the top 10 songs played in 2018?"
   ]
  },
  {
   "cell_type": "code",
   "execution_count": 53,
   "metadata": {
    "editable": true
   },
   "outputs": [
    {
     "data": {
      "text/html": [
       "<div>\n",
       "<style scoped>\n",
       "    .dataframe tbody tr th:only-of-type {\n",
       "        vertical-align: middle;\n",
       "    }\n",
       "\n",
       "    .dataframe tbody tr th {\n",
       "        vertical-align: top;\n",
       "    }\n",
       "\n",
       "    .dataframe thead th {\n",
       "        text-align: right;\n",
       "    }\n",
       "</style>\n",
       "<table border=\"1\" class=\"dataframe\">\n",
       "  <thead>\n",
       "    <tr style=\"text-align: right;\">\n",
       "      <th></th>\n",
       "      <th>times played</th>\n",
       "      <th>song</th>\n",
       "      <th>artist</th>\n",
       "    </tr>\n",
       "  </thead>\n",
       "  <tbody>\n",
       "    <tr>\n",
       "      <th>0</th>\n",
       "      <td>37</td>\n",
       "      <td>You're The One</td>\n",
       "      <td>Dwight Yoakam</td>\n",
       "    </tr>\n",
       "    <tr>\n",
       "      <th>1</th>\n",
       "      <td>17</td>\n",
       "      <td>Secrets</td>\n",
       "      <td>Carleen Anderson</td>\n",
       "    </tr>\n",
       "    <tr>\n",
       "      <th>2</th>\n",
       "      <td>13</td>\n",
       "      <td>Home</td>\n",
       "      <td>Gemma Hayes</td>\n",
       "    </tr>\n",
       "    <tr>\n",
       "      <th>3</th>\n",
       "      <td>13</td>\n",
       "      <td>Home</td>\n",
       "      <td>Eli Young Band</td>\n",
       "    </tr>\n",
       "    <tr>\n",
       "      <th>4</th>\n",
       "      <td>13</td>\n",
       "      <td>Home</td>\n",
       "      <td>Working For A Nuclear Free City</td>\n",
       "    </tr>\n",
       "    <tr>\n",
       "      <th>5</th>\n",
       "      <td>13</td>\n",
       "      <td>Home</td>\n",
       "      <td>Frozen Plasma</td>\n",
       "    </tr>\n",
       "    <tr>\n",
       "      <th>6</th>\n",
       "      <td>9</td>\n",
       "      <td>Catch You Baby (Steve Pitron &amp; Max Sanna Radio...</td>\n",
       "      <td>Lonnie Gordon</td>\n",
       "    </tr>\n",
       "    <tr>\n",
       "      <th>7</th>\n",
       "      <td>9</td>\n",
       "      <td>I CAN'T GET STARTED</td>\n",
       "      <td>Ron Carter</td>\n",
       "    </tr>\n",
       "    <tr>\n",
       "      <th>8</th>\n",
       "      <td>8</td>\n",
       "      <td>Nothin' On You [feat. Bruno Mars] (Album Version)</td>\n",
       "      <td>B.o.B</td>\n",
       "    </tr>\n",
       "    <tr>\n",
       "      <th>9</th>\n",
       "      <td>7</td>\n",
       "      <td>Float On</td>\n",
       "      <td>Rivera Rotation</td>\n",
       "    </tr>\n",
       "  </tbody>\n",
       "</table>\n",
       "</div>"
      ],
      "text/plain": [
       "   times played                                               song  \\\n",
       "0            37                                     You're The One   \n",
       "1            17                                            Secrets   \n",
       "2            13                                               Home   \n",
       "3            13                                               Home   \n",
       "4            13                                               Home   \n",
       "5            13                                               Home   \n",
       "6             9  Catch You Baby (Steve Pitron & Max Sanna Radio...   \n",
       "7             9                                I CAN'T GET STARTED   \n",
       "8             8  Nothin' On You [feat. Bruno Mars] (Album Version)   \n",
       "9             7                                           Float On   \n",
       "\n",
       "                            artist  \n",
       "0                    Dwight Yoakam  \n",
       "1                 Carleen Anderson  \n",
       "2                      Gemma Hayes  \n",
       "3                   Eli Young Band  \n",
       "4  Working For A Nuclear Free City  \n",
       "5                    Frozen Plasma  \n",
       "6                    Lonnie Gordon  \n",
       "7                       Ron Carter  \n",
       "8                            B.o.B  \n",
       "9                  Rivera Rotation  "
      ]
     },
     "execution_count": 53,
     "metadata": {},
     "output_type": "execute_result"
    }
   ],
   "source": [
    "query = \"\"\"\n",
    "SELECT\n",
    "    COUNT(sp.songplay_id) as \"times played\",\n",
    "    sg.title as \"song\",\n",
    "    ar.name as \"artist\"\n",
    "FROM songplay sp\n",
    "JOIN songs sg ON (sp.song_id = sg.song_id)\n",
    "JOIN time t ON (sp.start_time = t.start_time)\n",
    "JOIN artists ar ON (sp.artist_id = ar.artist_id)\n",
    "WHERE t.year = 2018\n",
    "GROUP BY sg.title, ar.name\n",
    "ORDER BY COUNT(sp.songplay_id) DESC\n",
    "LIMIT 10\n",
    "\"\"\"\n",
    "\n",
    "df = sqlio.read_sql_query(query, connection)\n",
    "df"
   ]
  },
  {
   "cell_type": "markdown",
   "metadata": {
    "editable": true
   },
   "source": [
    "#### Question 2: What were the top 10 artists played in 2018?"
   ]
  },
  {
   "cell_type": "code",
   "execution_count": 62,
   "metadata": {
    "editable": true
   },
   "outputs": [
    {
     "data": {
      "text/plain": [
       "<matplotlib.axes._subplots.AxesSubplot at 0x7f9661045748>"
      ]
     },
     "execution_count": 62,
     "metadata": {},
     "output_type": "execute_result"
    },
    {
     "data": {
      "image/png": "[encoded data removed]",
      "text/plain": [
       "<matplotlib.figure.Figure at 0x7f96610c8438>"
      ]
     },
     "metadata": {
      "needs_background": "light"
     },
     "output_type": "display_data"
    }
   ],
   "source": [
    "query = \"\"\"\n",
    "SELECT\n",
    "    COUNT(sp.songplay_id) as \"times played\",\n",
    "    ar.name as \"artist\"\n",
    "FROM songplay sp\n",
    "JOIN songs sg ON (sp.song_id = sg.song_id)\n",
    "JOIN time t ON (sp.start_time = t.start_time)\n",
    "JOIN artists ar ON (sp.artist_id = ar.artist_id)\n",
    "WHERE t.year = 2018\n",
    "GROUP BY ar.name\n",
    "ORDER BY COUNT(sp.songplay_id) DESC\n",
    "LIMIT 10\n",
    "\"\"\"\n",
    "\n",
    "df = sqlio.read_sql_query(query, connection)\n",
    "df.sort_values(\"times played\").plot(x=\"artist\", y=\"times played\", kind=\"barh\")"
   ]
  },
  {
   "cell_type": "code",
   "execution_count": 64,
   "metadata": {
    "editable": true
   },
   "outputs": [],
   "source": [
    "connection.close()"
   ]
  }
 ],
 "metadata": {
  "kernelspec": {
   "display_name": "Python 3",
   "language": "python",
   "name": "python3"
  },
  "language_info": {
   "codemirror_mode": {
    "name": "ipython",
    "version": 3
   },
   "file_extension": ".py",
   "mimetype": "text/x-python",
   "name": "python",
   "nbconvert_exporter": "python",
   "pygments_lexer": "ipython3",
   "version": "3.6.3"
  }
 },
 "nbformat": 4,
 "nbformat_minor": 4
}
